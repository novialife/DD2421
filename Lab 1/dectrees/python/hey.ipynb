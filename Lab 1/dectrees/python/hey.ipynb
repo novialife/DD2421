{
 "cells": [
  {
   "cell_type": "code",
   "execution_count": 1,
   "metadata": {},
   "outputs": [],
   "source": [
    "import monkdata as m\n",
    "import dtree as d\n",
    "import drawtree_qt4 as drawtree"
   ]
  },
  {
   "cell_type": "code",
   "execution_count": 2,
   "metadata": {},
   "outputs": [],
   "source": [
    "t1 = d.buildTree(m.monk1, m.attributes)\n",
    "t2 = d.buildTree(m.monk2, m.attributes)\n",
    "t3 = d.buildTree(m.monk3, m.attributes)"
   ]
  },
  {
   "cell_type": "code",
   "execution_count": 6,
   "metadata": {},
   "outputs": [
    {
     "ename": "TypeError",
     "evalue": "arguments did not match any overloaded call:\n  drawText(self, Union[QPointF, QPoint], str): argument 1 has unexpected type 'float'\n  drawText(self, QRectF, int, str): argument 1 has unexpected type 'float'\n  drawText(self, QRect, int, str): argument 1 has unexpected type 'float'\n  drawText(self, QRectF, str, option: QTextOption = QTextOption()): argument 1 has unexpected type 'float'\n  drawText(self, QPoint, str): argument 1 has unexpected type 'float'\n  drawText(self, int, int, int, int, int, str): argument 1 has unexpected type 'float'\n  drawText(self, int, int, str): argument 1 has unexpected type 'float'",
     "output_type": "error",
     "traceback": [
      "\u001b[1;31m---------------------------------------------------------------------------\u001b[0m",
      "\u001b[1;31mTypeError\u001b[0m                                 Traceback (most recent call last)",
      "File \u001b[1;32mc:\\Users\\Mervan\\Documents\\Onedrive\\DD2421\\Lab 1\\dectrees\\python\\drawtree_qt5.py:35\u001b[0m, in \u001b[0;36mMyPainting.paintEvent\u001b[1;34m(self, ev)\u001b[0m\n\u001b[0;32m     33\u001b[0m p\u001b[39m.\u001b[39mbegin(\u001b[39mself\u001b[39m)\n\u001b[0;32m     34\u001b[0m p\u001b[39m.\u001b[39msetPen (QtGui\u001b[39m.\u001b[39mQPen(QtGui\u001b[39m.\u001b[39mQColor(\u001b[39m0\u001b[39m,\u001b[39m0\u001b[39m,\u001b[39m0\u001b[39m), \u001b[39m1\u001b[39m))\n\u001b[1;32m---> 35\u001b[0m draw(p, \u001b[39mself\u001b[39;49m\u001b[39m.\u001b[39;49mtree, \u001b[39m10\u001b[39;49m, \u001b[39m10\u001b[39;49m)\n\u001b[0;32m     36\u001b[0m p\u001b[39m.\u001b[39mend()\n",
      "File \u001b[1;32mc:\\Users\\Mervan\\Documents\\Onedrive\\DD2421\\Lab 1\\dectrees\\python\\drawtree_qt5.py:46\u001b[0m, in \u001b[0;36mdraw\u001b[1;34m(p, t, x, y)\u001b[0m\n\u001b[0;32m     44\u001b[0m anchors \u001b[39m=\u001b[39m []\n\u001b[0;32m     45\u001b[0m \u001b[39mfor\u001b[39;00m b \u001b[39min\u001b[39;00m t\u001b[39m.\u001b[39mbranches:\n\u001b[1;32m---> 46\u001b[0m     mid, xx \u001b[39m=\u001b[39m draw(p, t\u001b[39m.\u001b[39;49mbranches[b], xx, y\u001b[39m+\u001b[39;49m\u001b[39m70\u001b[39;49m)\n\u001b[0;32m     47\u001b[0m     p\u001b[39m.\u001b[39mdrawText(mid\u001b[39m-\u001b[39m\u001b[39m3\u001b[39m, y\u001b[39m+\u001b[39m\u001b[39m68\u001b[39m, \u001b[39mstr\u001b[39m(b))\n\u001b[0;32m     48\u001b[0m     anchors\u001b[39m.\u001b[39mappend(mid)\n",
      "File \u001b[1;32mc:\\Users\\Mervan\\Documents\\Onedrive\\DD2421\\Lab 1\\dectrees\\python\\drawtree_qt5.py:46\u001b[0m, in \u001b[0;36mdraw\u001b[1;34m(p, t, x, y)\u001b[0m\n\u001b[0;32m     44\u001b[0m anchors \u001b[39m=\u001b[39m []\n\u001b[0;32m     45\u001b[0m \u001b[39mfor\u001b[39;00m b \u001b[39min\u001b[39;00m t\u001b[39m.\u001b[39mbranches:\n\u001b[1;32m---> 46\u001b[0m     mid, xx \u001b[39m=\u001b[39m draw(p, t\u001b[39m.\u001b[39;49mbranches[b], xx, y\u001b[39m+\u001b[39;49m\u001b[39m70\u001b[39;49m)\n\u001b[0;32m     47\u001b[0m     p\u001b[39m.\u001b[39mdrawText(mid\u001b[39m-\u001b[39m\u001b[39m3\u001b[39m, y\u001b[39m+\u001b[39m\u001b[39m68\u001b[39m, \u001b[39mstr\u001b[39m(b))\n\u001b[0;32m     48\u001b[0m     anchors\u001b[39m.\u001b[39mappend(mid)\n",
      "    \u001b[1;31m[... skipping similar frames: draw at line 46 (2 times)]\u001b[0m\n",
      "File \u001b[1;32mc:\\Users\\Mervan\\Documents\\Onedrive\\DD2421\\Lab 1\\dectrees\\python\\drawtree_qt5.py:46\u001b[0m, in \u001b[0;36mdraw\u001b[1;34m(p, t, x, y)\u001b[0m\n\u001b[0;32m     44\u001b[0m anchors \u001b[39m=\u001b[39m []\n\u001b[0;32m     45\u001b[0m \u001b[39mfor\u001b[39;00m b \u001b[39min\u001b[39;00m t\u001b[39m.\u001b[39mbranches:\n\u001b[1;32m---> 46\u001b[0m     mid, xx \u001b[39m=\u001b[39m draw(p, t\u001b[39m.\u001b[39;49mbranches[b], xx, y\u001b[39m+\u001b[39;49m\u001b[39m70\u001b[39;49m)\n\u001b[0;32m     47\u001b[0m     p\u001b[39m.\u001b[39mdrawText(mid\u001b[39m-\u001b[39m\u001b[39m3\u001b[39m, y\u001b[39m+\u001b[39m\u001b[39m68\u001b[39m, \u001b[39mstr\u001b[39m(b))\n\u001b[0;32m     48\u001b[0m     anchors\u001b[39m.\u001b[39mappend(mid)\n",
      "File \u001b[1;32mc:\\Users\\Mervan\\Documents\\Onedrive\\DD2421\\Lab 1\\dectrees\\python\\drawtree_qt5.py:50\u001b[0m, in \u001b[0;36mdraw\u001b[1;34m(p, t, x, y)\u001b[0m\n\u001b[0;32m     48\u001b[0m     anchors\u001b[39m.\u001b[39mappend(mid)\n\u001b[0;32m     49\u001b[0m newMid \u001b[39m=\u001b[39m (x\u001b[39m+\u001b[39mxx)\u001b[39m/\u001b[39m\u001b[39m2\u001b[39m\n\u001b[1;32m---> 50\u001b[0m p\u001b[39m.\u001b[39;49mdrawText(newMid\u001b[39m-\u001b[39;49m\u001b[39m7\u001b[39;49m, y\u001b[39m+\u001b[39;49m\u001b[39m15\u001b[39;49m, t\u001b[39m.\u001b[39;49mattribute\u001b[39m.\u001b[39;49mname)\n\u001b[0;32m     51\u001b[0m p\u001b[39m.\u001b[39mdrawEllipse(newMid\u001b[39m-\u001b[39m\u001b[39m15\u001b[39m, y, \u001b[39m30\u001b[39m, \u001b[39m20\u001b[39m)\n\u001b[0;32m     52\u001b[0m \u001b[39mfor\u001b[39;00m m \u001b[39min\u001b[39;00m anchors:\n",
      "\u001b[1;31mTypeError\u001b[0m: arguments did not match any overloaded call:\n  drawText(self, Union[QPointF, QPoint], str): argument 1 has unexpected type 'float'\n  drawText(self, QRectF, int, str): argument 1 has unexpected type 'float'\n  drawText(self, QRect, int, str): argument 1 has unexpected type 'float'\n  drawText(self, QRectF, str, option: QTextOption = QTextOption()): argument 1 has unexpected type 'float'\n  drawText(self, QPoint, str): argument 1 has unexpected type 'float'\n  drawText(self, int, int, int, int, int, str): argument 1 has unexpected type 'float'\n  drawText(self, int, int, str): argument 1 has unexpected type 'float'"
     ]
    },
    {
     "ename": "SystemExit",
     "evalue": "0",
     "output_type": "error",
     "traceback": [
      "An exception has occurred, use %tb to see the full traceback.\n",
      "\u001b[1;31mSystemExit\u001b[0m\u001b[1;31m:\u001b[0m 0\n"
     ]
    },
    {
     "name": "stderr",
     "output_type": "stream",
     "text": [
      "c:\\Users\\Mervan\\AppData\\Local\\Programs\\Python\\Python310\\lib\\site-packages\\IPython\\core\\interactiveshell.py:3259: UserWarning: To exit: use 'exit', 'quit', or Ctrl-D.\n",
      "  warn(\"To exit: use 'exit', 'quit', or Ctrl-D.\", stacklevel=1)\n"
     ]
    }
   ],
   "source": [
    "drawtree.drawTree(t2)"
   ]
  }
 ],
 "metadata": {
  "kernelspec": {
   "display_name": "Python 3.10.2 64-bit",
   "language": "python",
   "name": "python3"
  },
  "language_info": {
   "codemirror_mode": {
    "name": "ipython",
    "version": 3
   },
   "file_extension": ".py",
   "mimetype": "text/x-python",
   "name": "python",
   "nbconvert_exporter": "python",
   "pygments_lexer": "ipython3",
   "version": "3.10.2"
  },
  "orig_nbformat": 4,
  "vscode": {
   "interpreter": {
    "hash": "5f2da63d5fa2a256a0a855c4dc21fca45cfdf686510c90fb3776b3e05692a9f2"
   }
  }
 },
 "nbformat": 4,
 "nbformat_minor": 2
}
